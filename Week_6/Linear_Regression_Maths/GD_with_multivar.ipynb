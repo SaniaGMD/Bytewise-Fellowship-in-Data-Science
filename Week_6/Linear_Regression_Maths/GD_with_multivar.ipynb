{
 "cells": [
  {
   "cell_type": "markdown",
   "metadata": {},
   "source": [
    "# Regression using gradient descent\n",
    "\n",
    "In this lab, you will implement linear regression with one variable to predict profits for a restaurant franchise.\n",
    "\n"
   ]
  },
  {
   "cell_type": "markdown",
   "metadata": {},
   "source": [
    "<a name=\"1\"></a>\n",
    "## 1 - Packages \n",
    "\n",
    "First, let's run the cell below to import all the packages that you will need during this assignment.\n",
    "- [numpy](www.numpy.org) is the fundamental package for working with matrices in Python.\n",
    "- [matplotlib](http://matplotlib.org) is a famous library to plot graphs in Python.\n",
    "- ``utils.py`` contains helper functions for this assignment. You do not need to modify code in this file.\n"
   ]
  },
  {
   "cell_type": "code",
   "execution_count": 185,
   "metadata": {
    "deletable": false,
    "editable": false
   },
   "outputs": [],
   "source": [
    "import numpy as np\n",
    "import matplotlib.pyplot as plt\n",
    "from utils import *\n",
    "import copy\n",
    "import math\n",
    "%matplotlib inline"
   ]
  },
  {
   "cell_type": "markdown",
   "metadata": {},
   "source": [
    "## 2 -  Problem Statement\n",
    "\n",
    "Suppose you are the CEO of a restaurant franchise and are considering different cities for opening a new outlet.\n",
    "- You would like to expand your business to cities that may give your restaurant higher profits.\n",
    "- The chain already has restaurants in various cities and you have data for profits and populations from the cities.\n",
    "- You also have data on cities that are candidates for a new restaurant. \n",
    "    - For these cities, you have the city population.\n",
    "    \n",
    "Can you use the data to help you identify which cities may potentially give your business higher profits?\n",
    "\n",
    "## 3 - Dataset\n",
    "\n",
    "You will start by loading the dataset for this task. \n",
    "- The `load_data()` function shown below loads the data into variables `x_train` and `y_train`\n",
    "  - `x_train` is the population of a city\n",
    "  - `y_train` is the profit of a restaurant in that city. A negative value for profit indicates a loss.   \n",
    "  - Both `X_train` and `y_train` are numpy arrays."
   ]
  },
  {
   "cell_type": "code",
   "execution_count": 186,
   "metadata": {
    "deletable": false
   },
   "outputs": [],
   "source": [
    "# load the dataset\n",
    "# Data is in txt format placed inside data directory\n",
    "#you can call the load_dat function from utils.py file\n",
    "\n",
    "#________Your Code Here________ \n",
    "import numpy as np\n",
    "\n",
    "\n",
    "# def load_data():\n",
    "#     data = np.loadtxt(\"ex1data1.txt\", delimiter=',')\n",
    "#     X = data[:,0]\n",
    "#     y = data[:,1]\n",
    "#     return X, y\n",
    "\n",
    "def load_data():\n",
    "    data = np.loadtxt(\"ex1data2.txt\", delimiter=',')\n",
    "    X = data[:,:2]\n",
    "    y = data[:,2]\n",
    "    return X, y\n",
    "\n",
    "x_train, y_train = load_data()\n"
   ]
  },
  {
   "cell_type": "markdown",
   "metadata": {},
   "source": [
    "#### View the variables\n",
    "Before starting on any task, it is useful to get more familiar with your dataset.  \n",
    "- A good place to start is to just print out each variable and see what it contains.\n",
    "\n",
    "The code below prints the variable `x_train` and the type of the variable."
   ]
  },
  {
   "cell_type": "code",
   "execution_count": 187,
   "metadata": {
    "deletable": false,
    "editable": false
   },
   "outputs": [
    {
     "name": "stdout",
     "output_type": "stream",
     "text": [
      "Type of x_train: <class 'numpy.ndarray'>\n",
      "First five elements of x_train are:\n",
      " [[2.104e+03 3.000e+00]\n",
      " [1.600e+03 3.000e+00]\n",
      " [2.400e+03 3.000e+00]\n",
      " [1.416e+03 2.000e+00]\n",
      " [3.000e+03 4.000e+00]]\n"
     ]
    }
   ],
   "source": [
    "# print x_train\n",
    "print(\"Type of x_train:\",type(x_train))\n",
    "print(\"First five elements of x_train are:\\n\", x_train[:5]) "
   ]
  },
  {
   "cell_type": "markdown",
   "metadata": {},
   "source": [
    "`x_train` is a numpy array that contains decimal values that are all greater than zero.\n",
    "- These values represent the city population times 10,000\n",
    "- For example, 6.1101 means that the population for that city is 61,101\n",
    "  \n",
    "Now, let's print `y_train`"
   ]
  },
  {
   "cell_type": "code",
   "execution_count": 188,
   "metadata": {
    "deletable": false,
    "editable": false
   },
   "outputs": [
    {
     "name": "stdout",
     "output_type": "stream",
     "text": [
      "Type of y_train: <class 'numpy.ndarray'>\n",
      "First five elements of y_train are:\n",
      " [399900. 329900. 369000. 232000. 539900.]\n"
     ]
    }
   ],
   "source": [
    "# print y_train\n",
    "print(\"Type of y_train:\",type(y_train))\n",
    "print(\"First five elements of y_train are:\\n\", y_train[:5])  "
   ]
  },
  {
   "cell_type": "markdown",
   "metadata": {},
   "source": [
    "Similarly, `y_train` is a numpy array that has decimal values, some negative, some positive.\n",
    "- These represent your restaurant's average monthly profits in each city, in units of \\$10,000.\n",
    "  - For example, 17.592 represents \\$175,920 in average monthly profits for that city.\n",
    "  - -2.6807 represents -\\$26,807 in average monthly loss for that city."
   ]
  },
  {
   "cell_type": "markdown",
   "metadata": {},
   "source": [
    "#### Check the dimensions of your variables\n",
    "\n",
    "Another useful way to get familiar with your data is to view its dimensions.\n",
    "\n",
    "Please print the shape of `x_train` and `y_train` and see how many training examples you have in your dataset."
   ]
  },
  {
   "cell_type": "code",
   "execution_count": 189,
   "metadata": {
    "deletable": false,
    "editable": false
   },
   "outputs": [
    {
     "name": "stdout",
     "output_type": "stream",
     "text": [
      "The shape of x_train is: (47, 2)\n",
      "The shape of y_train is:  (47,)\n",
      "Number of training examples (m): 47\n"
     ]
    }
   ],
   "source": [
    "print ('The shape of x_train is:', x_train.shape)\n",
    "print ('The shape of y_train is: ', y_train.shape)\n",
    "print ('Number of training examples (m):', len(x_train))"
   ]
  },
  {
   "cell_type": "markdown",
   "metadata": {},
   "source": [
    "The city population array has 97 data points, and the monthly average profits also has 97 data points. These are NumPy 1D arrays."
   ]
  },
  {
   "cell_type": "markdown",
   "metadata": {},
   "source": [
    "#### Visualize your data\n",
    "\n",
    "It is often useful to understand the data by visualizing it. \n",
    "- For this dataset, you can use a scatter plot to visualize the data, since it has only two properties to plot (profit and population). \n",
    "- Many other problems that you will encounter in real life have more than two properties (for example, population, average household income, monthly profits, monthly sales).When you have more than two properties, you can still use a scatter plot to see the relationship between each pair of properties.\n"
   ]
  },
  {
   "cell_type": "code",
   "execution_count": 210,
   "metadata": {
    "deletable": false
   },
   "outputs": [],
   "source": [
    "# # Create a scatter plot of the data. To change the markers to red \"x\",\n",
    "# # we used the 'marker' and 'c' parameters\n",
    "\n",
    "\n",
    "\n",
    "# plt.scatter(x_train[:,0],y_train, marker='x', c='r') \n",
    "\n",
    "# # Set the title\n",
    "# plt.title(\"Profits vs. Population per city\")\n",
    "# # Set the y-axis label\n",
    "# plt.ylabel('Profit in $10,000')\n",
    "# # Set the x-axis label\n",
    "# plt.xlabel('Population of City in 10,000s')\n",
    "# plt.show()"
   ]
  },
  {
   "cell_type": "markdown",
   "metadata": {},
   "source": [
    "Your goal is to build a linear regression model to fit this data.\n",
    "- With this model, you can then input a new city's population, and have the model estimate your restaurant's potential monthly profits for that city."
   ]
  },
  {
   "cell_type": "markdown",
   "metadata": {},
   "source": [
    "<a name=\"4\"></a>\n",
    "## 4 - Refresher on linear regression\n",
    "\n",
    "In this practice lab, you will fit the linear regression parameters $(w,b)$ to your dataset.\n",
    "- The model function for linear regression, which is a function that maps from `x` (city population) to `y` (your restaurant's monthly profit for that city) is represented as \n",
    "    $$f_{w,b}(x) = wx + b$$\n",
    "    \n",
    "\n",
    "- To train a linear regression model, you want to find the best $(w,b)$ parameters that fit your dataset.  \n",
    "\n",
    "    - To compare how one choice of $(w,b)$ is better or worse than another choice, you can evaluate it with a cost function $J(w,b)$\n",
    "      - $J$ is a function of $(w,b)$. That is, the value of the cost $J(w,b)$ depends on the value of $(w,b)$.\n",
    "  \n",
    "    - The choice of $(w,b)$ that fits your data the best is the one that has the smallest cost $J(w,b)$.\n",
    "\n",
    "\n",
    "- To find the values $(w,b)$ that gets the smallest possible cost $J(w,b)$, you can use a method called **gradient descent**. \n",
    "  - With each step of gradient descent, your parameters $(w,b)$ come closer to the optimal values that will achieve the lowest cost $J(w,b)$.\n",
    "  \n",
    "\n",
    "- The trained linear regression model can then take the input feature $x$ (city population) and output a prediction $f_{w,b}(x)$ (predicted monthly profit for a restaurant in that city)."
   ]
  },
  {
   "cell_type": "markdown",
   "metadata": {},
   "source": [
    "<a name=\"5\"></a>\n",
    "## 5 - Compute Cost\n",
    "\n",
    "Gradient descent involves repeated steps to adjust the value of your parameter $(w,b)$ to gradually get a smaller and smaller cost $J(w,b)$.\n",
    "- At each step of gradient descent, it will be helpful for you to monitor your progress by computing the cost $J(w,b)$ as $(w,b)$ gets updated. \n",
    "- In this section, you will implement a function to calculate $J(w,b)$ so that you can check the progress of your gradient descent implementation.\n",
    "\n",
    "#### Cost function\n",
    "As you may recall from the lecture, for one variable, the cost function for linear regression $J(w,b)$ is defined as\n",
    "\n",
    "$$J(w,b) = \\frac{1}{2m} \\sum\\limits_{i = 0}^{m-1} (f_{w,b}(x^{(i)}) - y^{(i)})^2$$ \n",
    "\n",
    "- You can think of $f_{w,b}(x^{(i)})$ as the model's prediction of your restaurant's profit, as opposed to $y^{(i)}$, which is the actual profit that is recorded in the data.\n",
    "- $m$ is the number of training examples in the dataset\n",
    "\n",
    "#### Model prediction\n",
    "\n",
    "- For linear regression with one variable, the prediction of the model $f_{w,b}$ for an example $x^{(i)}$ is representented as:\n",
    "\n",
    "$$ f_{w,b}(x^{(i)}) = wx^{(i)} + b$$\n",
    "\n",
    "This is the equation for a line, with an intercept $b$ and a slope $w$\n",
    "\n",
    "#### Implementation\n",
    "\n",
    "Please complete the `compute_cost()` function below to compute the cost $J(w,b)$."
   ]
  },
  {
   "cell_type": "markdown",
   "metadata": {},
   "source": [
    "<a name=\"ex01\"></a>\n",
    "### Exercise 1\n",
    "\n",
    "Complete the `compute_cost` below to:\n",
    "\n",
    "* Iterate over the training examples, and for each example, compute:\n",
    "    * The prediction of the model for that example \n",
    "    $$\n",
    "    f_{wb}(x^{(i)}) =  wx^{(i)} + b \n",
    "    $$\n",
    "   \n",
    "    * The cost for that example  $$cost^{(i)} =  (f_{wb} - y^{(i)})^2$$\n",
    "    \n",
    "\n",
    "* Return the total cost over all examples\n",
    "$$J(\\mathbf{w},b) = \\frac{1}{2m} \\sum\\limits_{i = 0}^{m-1} cost^{(i)}$$\n",
    "  * Here, $m$ is the number of training examples and $\\sum$ is the summation operator\n",
    "\n",
    "If you get stuck, you can check out the hints presented after the cell below to help you with the implementation."
   ]
  },
  {
   "cell_type": "code",
   "execution_count": 193,
   "metadata": {
    "deletable": false
   },
   "outputs": [],
   "source": [
    "def compute_cost(x, y, w, b): \n",
    "    \"\"\"\n",
    "    Computes the cost function for linear regression.\n",
    "    \n",
    "    Args:\n",
    "    \n",
    "        x (ndarray): Shape (m,) Input to the model (Population of cities) \n",
    "        y (ndarray): Shape (m,) Label (Actual profits for the cities)\n",
    "        w, b (scalar): Parameters of the model\n",
    "    \n",
    "    Returns\n",
    "        total_cost (float): The cost of using w,b as the parameters for linear regression\n",
    "               to fit the data points in x and y\n",
    "    \"\"\"\n",
    "    # number of training examples\n",
    "    m = x_train.shape[0] \n",
    "    \n",
    "    # You need to return this variable correctly\n",
    "    total_cost = 0\n",
    "    \n",
    "    #_________DONT USE FOR LOOPS HERE USE VACTORIZATION INSTEAD ______ \n",
    "    \n",
    "    # 𝑓𝑤𝑏(𝑥(𝑖))=𝑤𝑥(𝑖)+𝑏\n",
    "    \n",
    "    ### START CODE HERE ###\n",
    "    predicted_y = (w *  x_train) + b\n",
    "#     print(predicted_y)\n",
    "\n",
    "#     from sklearn.metrics import mean_squared_error\n",
    "#     total_cost = mean_squared_error(y_train, predicted_y)\n",
    "#     total_cost =  (1/(2*(m)) * (((y_train - predicted_y)**2).sum()))\n",
    "    \n",
    "    \n",
    "    mse1 = np.mean((predicted_y[:,0] - y_train)**2)\n",
    "    mse2 = np.mean((predicted_y[:,1] - y_train)**2)\n",
    "    cost = (mse1 + mse2) / 2\n",
    "    return cost\n",
    "    \n",
    "    ### END CODE HERE ### \n",
    "\n",
    "    return total_cost"
   ]
  },
  {
   "cell_type": "markdown",
   "metadata": {},
   "source": [
    "You can check if your implementation was correct by running the following test code:"
   ]
  },
  {
   "cell_type": "code",
   "execution_count": 194,
   "metadata": {
    "deletable": false
   },
   "outputs": [
    {
     "name": "stdout",
     "output_type": "stream",
     "text": [
      "<class 'numpy.float64'>\n",
      "Cost at initial w: 128908347071.149\n"
     ]
    }
   ],
   "source": [
    "# Compute cost with some initial values for paramaters w, b\n",
    "initial_w = [3,2]\n",
    "initial_b = 1\n",
    "\n",
    "cost = compute_cost(x_train, y_train, initial_w,  initial_b)\n",
    "print(type(cost))\n",
    "print(f'Cost at initial w: {cost:.3f}')\n",
    "\n",
    "# # Public tests\n",
    "# from public_tests import *\n",
    "# compute_cost_test(compute_cost)"
   ]
  },
  {
   "cell_type": "markdown",
   "metadata": {},
   "source": [
    "**Expected Output**:\n",
    "<table>\n",
    "  <tr>\n",
    "    <td> <b>Cost at initial w:<b> 75.203 </td> \n",
    "  </tr>\n",
    "</table>"
   ]
  },
  {
   "cell_type": "markdown",
   "metadata": {},
   "source": [
    "<a name=\"6\"></a>\n",
    "## 6 - Gradient descent \n",
    "\n",
    "In this section, you will implement the gradient for parameters $w, b$ for linear regression. "
   ]
  },
  {
   "cell_type": "markdown",
   "metadata": {},
   "source": [
    "As described in the lecture videos, the gradient descent algorithm is:\n",
    "\n",
    "$$\\begin{align*}& \\text{repeat until convergence:} \\; \\lbrace \\newline \\; & \\phantom {0000} b := b -  \\alpha \\frac{\\partial J(w,b)}{\\partial b} \\newline       \\; & \\phantom {0000} w := w -  \\alpha \\frac{\\partial J(w,b)}{\\partial w} \\tag{1}  \\; & \n",
    "\\newline & \\rbrace\\end{align*}$$\n",
    "\n",
    "where, parameters $w, b$ are both updated simultaniously and where  \n",
    "$$\n",
    "\\frac{\\partial J(w,b)}{\\partial b}  = \\frac{1}{m} \\sum\\limits_{i = 0}^{m-1} (f_{w,b}(x^{(i)}) - y^{(i)}) \\tag{2}\n",
    "$$\n",
    "$$\n",
    "\\frac{\\partial J(w,b)}{\\partial w}  = \\frac{1}{m} \\sum\\limits_{i = 0}^{m-1} (f_{w,b}(x^{(i)}) -y^{(i)})x^{(i)} \\tag{3}\n",
    "$$\n",
    "* m is the number of training examples in the dataset\n",
    "\n",
    "    \n",
    "*  $f_{w,b}(x^{(i)})$ is the model's prediction, while $y^{(i)}$, is the target value\n",
    "\n",
    "\n",
    "You will implement a function called `compute_gradient` which calculates $\\frac{\\partial J(w)}{\\partial w}$, $\\frac{\\partial J(w)}{\\partial b}$ "
   ]
  },
  {
   "cell_type": "markdown",
   "metadata": {},
   "source": [
    "<a name=\"ex02\"></a>\n",
    "### Exercise 2\n",
    "\n",
    "Please complete the `compute_gradient` function to:\n",
    "\n",
    "* Iterate over the training examples, and for each example, compute:\n",
    "    * The prediction of the model for that example \n",
    "    $$\n",
    "    f_{wb}(x^{(i)}) =  wx^{(i)} + b \n",
    "    $$\n",
    "   \n",
    "    * The gradient for the parameters $w, b$ from that example \n",
    "        $$\n",
    "        \\frac{\\partial J(w,b)}{\\partial b}^{(i)}  =  (f_{w,b}(x^{(i)}) - y^{(i)}) \n",
    "        $$\n",
    "        $$\n",
    "        \\frac{\\partial J(w,b)}{\\partial w}^{(i)}  =  (f_{w,b}(x^{(i)}) -y^{(i)})x^{(i)} \n",
    "        $$\n",
    "    \n",
    "\n",
    "* Return the total gradient update from all the examples\n",
    "    $$\n",
    "    \\frac{\\partial J(w,b)}{\\partial b}  = \\frac{1}{m} \\sum\\limits_{i = 0}^{m-1} \\frac{\\partial J(w,b)}{\\partial b}^{(i)}\n",
    "    $$\n",
    "    \n",
    "    $$\n",
    "    \\frac{\\partial J(w,b)}{\\partial w}  = \\frac{1}{m} \\sum\\limits_{i = 0}^{m-1} \\frac{\\partial J(w,b)}{\\partial w}^{(i)} \n",
    "    $$\n",
    "  * Here, $m$ is the number of training examples and $\\sum$ is the summation operator\n",
    "\n",
    "If you get stuck, you can check out the hints presented after the cell below to help you with the implementation."
   ]
  },
  {
   "cell_type": "code",
   "execution_count": 195,
   "metadata": {
    "deletable": false
   },
   "outputs": [],
   "source": [
    "# # UNQ_C2\n",
    "# # GRADED FUNCTION: compute_gradient\n",
    "# def compute_gradient(x, y, w,  b): \n",
    "#     \"\"\"\n",
    "#     Computes the gradient for linear regression \n",
    "#     Args:\n",
    "#       x (ndarray): Shape (m,) Input to the model (Population of cities) \n",
    "#       y (ndarray): Shape (m,) Label (Actual profits for the cities)\n",
    "#       w, b (scalar): Parameters of the model  \n",
    "#     Returns\n",
    "#       dj_dw (scalar): The gradient of the cost w.r.t. the parameters w\n",
    "#       dj_db (scalar): The gradient of the cost w.r.t. the parameter b     \n",
    "#      \"\"\"\n",
    "#     predicted_y = (w * x_train) + b\n",
    "\n",
    "    \n",
    "#     # Number of training examples\n",
    "#     m = x.shape[0]\n",
    "    \n",
    "#     # You need to return the following variables correctly\n",
    "#     dj_dw1 = 0\n",
    "#     dj_db2 = 0\n",
    "#     dj_db = 0\n",
    "    \n",
    "    \n",
    "#     dj_dw11 =0\n",
    "#     dj_dw21 =0 \n",
    "#     dj_db1 = 0\n",
    "    \n",
    "#     ### START CODE HERE ###\n",
    "    \n",
    "#     dj_db1 = (predicted_y - y_train)\n",
    "#     dj_dw11 = (predicted_y - y_train) * x_train\n",
    "#     dj_dw21 = (predicted_y - y_train) * (x_train**2)\n",
    "    \n",
    "    \n",
    "#     dj_db = (1/(m) * (dj_db1.sum()))\n",
    "#     dj_dw1 = (1/(m) * (dj_dw11.sum()))\n",
    "#     dj_dw2 = (1/(m) * (dj_dw21.sum()))\n",
    "    \n",
    "    \n",
    "#     ### END CODE HERE ### \n",
    "        \n",
    "#     return dj_dw1, dj_dw2, dj_db"
   ]
  },
  {
   "cell_type": "code",
   "execution_count": 196,
   "metadata": {},
   "outputs": [],
   "source": [
    "def compute_gradient(x, y, w, b): \n",
    "    \"\"\"\n",
    "    Computes the gradient for linear regression \n",
    "    Args:\n",
    "      x (ndarray): Shape (m,) Input to the model (Population of cities) \n",
    "      y (ndarray): Shape (m,) Label (Actual profits for the cities)\n",
    "      w, b (ndarray): Parameters of the model  \n",
    "    Returns\n",
    "      dj_dw (ndarray): The gradient of the cost w.r.t. the parameters w\n",
    "      dj_db (scalar): The gradient of the cost w.r.t. the parameter b     \n",
    "     \"\"\"\n",
    "    predicted_y = (x @ w) + b\n",
    "\n",
    "    # Number of training examples\n",
    "    m = x.shape[0]\n",
    "    \n",
    "    # You need to return the following variables correctly\n",
    "    dj_dw = np.zeros_like(w)\n",
    "    dj_db = 0\n",
    "    \n",
    "    # Compute the gradients\n",
    "    dj_db = (1/m) * np.sum(predicted_y - y)\n",
    "    dj_dw = (1/m) * (x.T @ (predicted_y - y))\n",
    "\n",
    "    return dj_dw, dj_db\n"
   ]
  },
  {
   "cell_type": "markdown",
   "metadata": {},
   "source": [
    "Run the cells below to check your implementation of the `compute_gradient` function with two different initializations of the parameters $w$,$b$."
   ]
  },
  {
   "cell_type": "code",
   "execution_count": 197,
   "metadata": {
    "deletable": false
   },
   "outputs": [
    {
     "name": "stdout",
     "output_type": "stream",
     "text": [
      "Gradient at initial w, b (zeros): [-7.64209128e+08 -1.12036770e+06] -340412.6595744681\n"
     ]
    }
   ],
   "source": [
    "# Compute and display gradient with w initialized to zeroes\n",
    "initial_w = [0,0]\n",
    "initial_b = 0\n",
    "\n",
    "tmp_dj_dw, tmp_dj_db = compute_gradient(x_train, y_train, initial_w, initial_b)\n",
    "print('Gradient at initial w, b (zeros):', tmp_dj_dw, tmp_dj_db)\n",
    "\n",
    "# compute_gradient_test(compute_gradient)"
   ]
  },
  {
   "cell_type": "markdown",
   "metadata": {},
   "source": [
    "Now let's run the gradient descent algorithm implemented above on our dataset.\n",
    "\n",
    "**Expected Output**:\n",
    "<table>\n",
    "  <tr>\n",
    "    <td> <b>Gradient at initial , b (zeros)<b></td>\n",
    "    <td> -65.32884975 -5.83913505154639</td> \n",
    "  </tr>\n",
    "</table>"
   ]
  },
  {
   "cell_type": "code",
   "execution_count": 198,
   "metadata": {
    "deletable": false
   },
   "outputs": [
    {
     "name": "stdout",
     "output_type": "stream",
     "text": [
      "Gradient at test w, b: [-7.64208728e+08 -1.12036707e+06] -340412.4595744682\n"
     ]
    }
   ],
   "source": [
    "# Compute and display cost and gradient with non-zero w\n",
    "\n",
    "test_w = [0,0]\n",
    "test_b = 0.2\n",
    "tmp_dj_dw, tmp_dj_db = compute_gradient(x_train, y_train, test_w, test_b)\n",
    "\n",
    "print('Gradient at test w, b:', tmp_dj_dw, tmp_dj_db)\n",
    "\n"
   ]
  },
  {
   "cell_type": "markdown",
   "metadata": {},
   "source": [
    "**Expected Output**:\n",
    "<table>\n",
    "  <tr>\n",
    "    <td> <b>Gradient at test w<b></td>\n",
    "    <td> -47.41610118 -4.007175051546391</td> \n",
    "  </tr>\n",
    "</table>"
   ]
  },
  {
   "cell_type": "code",
   "execution_count": 199,
   "metadata": {},
   "outputs": [
    {
     "name": "stdout",
     "output_type": "stream",
     "text": [
      "[-7.64208728e+08 -1.12036707e+06]\n"
     ]
    }
   ],
   "source": [
    "print(tmp_dj_dw)"
   ]
  },
  {
   "cell_type": "markdown",
   "metadata": {},
   "source": [
    "<a name=\"2.6\"></a>\n",
    "### 2.6 Learning parameters using batch gradient descent \n",
    "\n",
    "You will now find the optimal parameters of a linear regression model by using batch gradient descent. Recall batch refers to running all the examples in one iteration.\n",
    "- You don't need to implement anything for this part. Simply run the cells below. \n",
    "\n",
    "- A good way to verify that gradient descent is working correctly is to look\n",
    "at the value of $J(w,b)$ and check that it is decreasing with each step. \n",
    "\n",
    "- Assuming you have implemented the gradient and computed the cost correctly and you have an appropriate value for the learning rate alpha, $J(w,b)$ should never increase and should converge to a steady value by the end of the algorithm."
   ]
  },
  {
   "cell_type": "markdown",
   "metadata": {},
   "source": [
    "### Exercise 3 \n",
    "\n",
    "    Update the values of w and b\n",
    "    "
   ]
  },
  {
   "cell_type": "code",
   "execution_count": 200,
   "metadata": {
    "deletable": false
   },
   "outputs": [
    {
     "name": "stdout",
     "output_type": "stream",
     "text": [
      "Iteration    0: Cost 13272661009734192.00   \n",
      "Iteration  150: Cost      nan   \n",
      "Iteration  300: Cost      nan   \n",
      "Iteration  450: Cost      nan   \n",
      "Iteration  600: Cost      nan   \n",
      "Iteration  750: Cost      nan   \n",
      "Iteration  900: Cost      nan   \n",
      "Iteration 1050: Cost      nan   \n",
      "Iteration 1200: Cost      nan   "
     ]
    },
    {
     "name": "stderr",
     "output_type": "stream",
     "text": [
      "C:\\Users\\HP\\AppData\\Local\\Temp/ipykernel_10352/1346521763.py:34: RuntimeWarning: overflow encountered in square\n",
      "  mse1 = np.mean((predicted_y[:,0] - y_train)**2)\n",
      "C:\\Users\\HP\\AppData\\Local\\Temp/ipykernel_10352/1346521763.py:35: RuntimeWarning: overflow encountered in square\n",
      "  mse2 = np.mean((predicted_y[:,1] - y_train)**2)\n",
      "C:\\Users\\HP\\AppData\\Local\\Temp/ipykernel_10352/2284659859.py:23: RuntimeWarning: overflow encountered in matmul\n",
      "  dj_dw = (1/m) * (x.T @ (predicted_y - y))\n",
      "C:\\Users\\HP\\AppData\\Local\\Temp/ipykernel_10352/2284659859.py:23: RuntimeWarning: invalid value encountered in matmul\n",
      "  dj_dw = (1/m) * (x.T @ (predicted_y - y))\n",
      "C:\\Users\\HP\\AppData\\Local\\Temp/ipykernel_10352/2857480711.py:39: RuntimeWarning: invalid value encountered in subtract\n",
      "  w = w - alpha * (dj_dw)\n"
     ]
    },
    {
     "name": "stdout",
     "output_type": "stream",
     "text": [
      "\n",
      "Iteration 1350: Cost      nan   \n",
      "w,b found by gradient descent: [nan nan] nan\n"
     ]
    },
    {
     "data": {
      "image/png": "[encoded data removed]",
      "text/plain": [
       "<Figure size 432x288 with 1 Axes>"
      ]
     },
     "metadata": {
      "needs_background": "light"
     },
     "output_type": "display_data"
    }
   ],
   "source": [
    "def gradient_descent(x, y, w_in, b_in, cost_function, gradient_function, alpha, num_iters): \n",
    "    \"\"\"\n",
    "    Performs batch gradient descent to learn theta. Updates theta by taking \n",
    "    num_iters gradient steps with learning rate alpha\n",
    "    \n",
    "    Args:\n",
    "      x :    (ndarray): Shape (m,)\n",
    "      y :    (ndarray): Shape (m,)\n",
    "      w_in, b_in : (scalar) Initial values of parameters of the model\n",
    "      cost_function: function to compute cost\n",
    "      gradient_function: function to compute the gradient\n",
    "      alpha : (float) Learning rate\n",
    "      num_iters : (int) number of iterations to run gradient descent\n",
    "    Returns\n",
    "      w : (ndarray): Shape (1,) Updated values of parameters of the model after\n",
    "          running gradient descent\n",
    "      b : (scalar)                Updated value of parameter of the model after\n",
    "          running gradient descent\n",
    "    \"\"\"\n",
    "    \n",
    "    # number of training examples\n",
    "    m = len(x)\n",
    "    \n",
    "    # An array to store cost J and w's at each iteration — primarily for graphing later\n",
    "    J_history = []\n",
    "    w_history = []\n",
    "    w = copy.deepcopy(w_in)  #avoid modifying global w within function\n",
    "    b = b_in\n",
    "    \n",
    "    for i in range(num_iters):\n",
    "\n",
    "        # Calculate the gradient and update the parameters\n",
    "        dj_dw, dj_db = gradient_function(x, y, w, b )  \n",
    "\n",
    "        # Update Parameters using w, b, alpha and gradient\n",
    "        #_________your code here_________\n",
    "        ### START CODE HERE ###\n",
    "        \n",
    "        w = w - alpha * (dj_dw)\n",
    "        b = b - alpha * (dj_db)\n",
    "        \n",
    "        ### END CODE HERE ###\n",
    "                   \n",
    "\n",
    "        # Save cost J at each iteration\n",
    "        if i<100000:      # prevent resource exhaustion \n",
    "            cost =  cost_function(x, y, w, b)\n",
    "            J_history.append(cost)\n",
    "\n",
    "            \n",
    "#         print(\"Cost: \" + str(cost))\n",
    "        \n",
    "        # Print cost every at intervals 10 times or as many iterations if < 10\n",
    "        if i% math.ceil(num_iters/10) == 0:\n",
    "            w_history.append(w)\n",
    "            print(f\"Iteration {i:4}: Cost {float(J_history[-1]):8.2f}   \")\n",
    "        \n",
    "    return w, b, J_history, w_history #return w and J,w history for graphing\n",
    "\n",
    "\n",
    "\n",
    "# initialize fitting parameters. Recall that the shape of w is (n,)\n",
    "initial_w = [1,1]\n",
    "initial_b = 1\n",
    "\n",
    "# some gradient descent settings\n",
    "iterations = 1500\n",
    "\n",
    "alpha = 0.0001\n",
    "\n",
    "w,b,J_history,_ = gradient_descent(x_train ,y_train, initial_w, initial_b, \n",
    "                     compute_cost, compute_gradient, alpha, iterations)\n",
    "print(\"w,b found by gradient descent:\", w, b)\n",
    "\n",
    "#To get the basic idea of how the cost function varies with the parameters,\n",
    "# Plot the learning curve\n",
    "plt.plot(range(iterations), J_history)\n",
    "plt.xlabel('Iteration')\n",
    "plt.ylabel('Cost')\n",
    "plt.title('Learning Curve for Gradient Descent')\n",
    "plt.show()"
   ]
  },
  {
   "cell_type": "markdown",
   "metadata": {},
   "source": [
    "Now let's run the gradient descent algorithm above to learn the parameters for our dataset."
   ]
  },
  {
   "cell_type": "code",
   "execution_count": 201,
   "metadata": {
    "deletable": false
   },
   "outputs": [
    {
     "name": "stdout",
     "output_type": "stream",
     "text": [
      "Iteration    0: Cost 13272661009734192.00   \n",
      "Iteration  150: Cost      nan   \n",
      "Iteration  300: Cost      nan   \n",
      "Iteration  450: Cost      nan   \n",
      "Iteration  600: Cost      nan   \n",
      "Iteration  750: Cost      nan   \n",
      "Iteration  900: Cost      nan   \n"
     ]
    },
    {
     "name": "stderr",
     "output_type": "stream",
     "text": [
      "C:\\Users\\HP\\AppData\\Local\\Temp/ipykernel_10352/1346521763.py:34: RuntimeWarning: overflow encountered in square\n",
      "  mse1 = np.mean((predicted_y[:,0] - y_train)**2)\n",
      "C:\\Users\\HP\\AppData\\Local\\Temp/ipykernel_10352/1346521763.py:35: RuntimeWarning: overflow encountered in square\n",
      "  mse2 = np.mean((predicted_y[:,1] - y_train)**2)\n",
      "C:\\Users\\HP\\AppData\\Local\\Temp/ipykernel_10352/2284659859.py:23: RuntimeWarning: overflow encountered in matmul\n",
      "  dj_dw = (1/m) * (x.T @ (predicted_y - y))\n",
      "C:\\Users\\HP\\AppData\\Local\\Temp/ipykernel_10352/2284659859.py:23: RuntimeWarning: invalid value encountered in matmul\n",
      "  dj_dw = (1/m) * (x.T @ (predicted_y - y))\n",
      "C:\\Users\\HP\\AppData\\Local\\Temp/ipykernel_10352/2857480711.py:39: RuntimeWarning: invalid value encountered in subtract\n",
      "  w = w - alpha * (dj_dw)\n"
     ]
    },
    {
     "name": "stdout",
     "output_type": "stream",
     "text": [
      "Iteration 1050: Cost      nan   \n",
      "Iteration 1200: Cost      nan   \n",
      "Iteration 1350: Cost      nan   \n",
      "w,b found by gradient descent: [nan nan] nan\n"
     ]
    },
    {
     "data": {
      "image/png": "[encoded data removed]",
      "text/plain": [
       "<Figure size 432x288 with 1 Axes>"
      ]
     },
     "metadata": {
      "needs_background": "light"
     },
     "output_type": "display_data"
    }
   ],
   "source": [
    "# initialize fitting parameters. Recall that the shape of w is (n,)\n",
    "initial_w = [1,1]\n",
    "initial_b = 1\n",
    "\n",
    "# some gradient descent settings\n",
    "iterations = 1500\n",
    "\n",
    "alpha = 0.0001\n",
    "\n",
    "w,b,J_history,_ = gradient_descent(x_train ,y_train, initial_w, initial_b, \n",
    "                     compute_cost, compute_gradient, alpha, iterations)\n",
    "print(\"w,b found by gradient descent:\", w, b)\n",
    "\n",
    "#To get the basic idea of how the cost function varies with the parameters,\n",
    "# Plot the learning curve\n",
    "plt.plot(range(iterations), J_history)\n",
    "plt.xlabel('Iteration')\n",
    "plt.ylabel('Cost')\n",
    "plt.title('Learning Curve for Gradient Descent')\n",
    "plt.show()"
   ]
  },
  {
   "cell_type": "markdown",
   "metadata": {},
   "source": [
    "**Expected Output**:\n",
    "<table>\n",
    "  <tr>\n",
    "    <td> <b> w, b found by gradient descent<b></td>\n",
    "    <td> 1.16636235 -3.63029143940436</td> \n",
    "  </tr>\n",
    "</table>"
   ]
  },
  {
   "cell_type": "markdown",
   "metadata": {},
   "source": [
    "The warning \"overflow encountered in square\" suggests that some values in your computation are too large to be represented by the data type you are using, leading to an overflow error. This can cause the cost function to return NaN, which in turn can lead to NaN values for the model parameters.\n",
    "\n",
    "One way to address this issue is to scale your input data so that it has a mean of zero and a standard deviation of one. This can help prevent overflow errors and also make your optimization process more efficient.\n",
    "\n",
    "Additionally, you may want to try reducing the learning rate alpha to see if that helps stabilize the optimization process. A large learning rate can cause the optimization process to overshoot the minimum and diverge, leading to NaN values for the model parameters.\n",
    "\n",
    "You may also want to try using a different optimization algorithm, such as Adam or RMSprop, which can sometimes be more effective than plain gradient descent for deep learning problems."
   ]
  },
  {
   "cell_type": "markdown",
   "metadata": {},
   "source": [
    "### Exercise 4\n",
    "\n",
    "We will now use the final parameters from gradient descent to plot the linear fit. \n",
    "\n",
    "Recall that we can get the prediction for a single example $f(x^{(i)})= wx^{(i)}+b$. \n",
    "\n",
    "To calculate the predictions on the entire dataset, we can loop through all the training examples and calculate the prediction for each example. This is shown in the code block below."
   ]
  },
  {
   "cell_type": "code",
   "execution_count": 205,
   "metadata": {
    "deletable": false
   },
   "outputs": [],
   "source": [
    "m = x_train.shape[0]\n",
    "predicted = np.zeros(m)\n",
    "\n",
    "#guessing the parameters for the best fit line.\n",
    "w = [159.,400.]\n",
    "b = 600.\n",
    "# print(x,b)\n",
    "#use vectorization to compute predicted values\n",
    "#_________your code here_________\n",
    "### START CODE HERE ###\n",
    "\n",
    "predicted = w*x_train + b\n",
    "# print(w, b)\n",
    "\n",
    "### END CODE HERE ###\n"
   ]
  },
  {
   "cell_type": "markdown",
   "metadata": {},
   "source": [
    "We will now plot the predicted values to see the linear fit."
   ]
  },
  {
   "cell_type": "code",
   "execution_count": 209,
   "metadata": {
    "deletable": false
   },
   "outputs": [],
   "source": [
    "# # Plot the linear fit\n",
    "# # plt.plot(x_train, predicted, c = \"b\")\n",
    "\n",
    "# # Create a scatter plot of the data. \n",
    "# # plt.scatter( x_train[:,0], y_train, marker='x', c='r') \n",
    "\n",
    "# # Set the title\n",
    "# plt.title(\"Profits vs. Population per city\")\n",
    "# # Set the y-axis label\n",
    "# plt.ylabel('Profit in $10,000')\n",
    "# # Set the x-axis label\n",
    "# plt.xlabel('Population of City in 10,000s')"
   ]
  },
  {
   "cell_type": "markdown",
   "metadata": {},
   "source": [
    "Your final values of $w,b$ can also be used to make predictions on profits. Let's predict what the profit would be in areas of 35,000 and 70,000 people. \n",
    "\n",
    "- The model takes in population of a city in 10,000s as input. \n",
    "\n",
    "- Therefore, 35,000 people can be translated into an input to the model as `np.array([3.5])`\n",
    "\n",
    "- Similarly, 70,000 people can be translated into an input to the model as `np.array([7.])`\n"
   ]
  },
  {
   "cell_type": "code",
   "execution_count": 204,
   "metadata": {
    "deletable": false
   },
   "outputs": [
    {
     "name": "stdout",
     "output_type": "stream",
     "text": [
      "For population = 35,000, we predict a profit of $10481929.00\n",
      "For population = 70,000, we predict a profit of $21130000.00\n"
     ]
    }
   ],
   "source": [
    "# w = [159.,400.]\n",
    "# b = 600.\n",
    "# predict1 = 3.5 * w + b\n",
    "# print('For population = 35,000, we predict a profit of $%.2f' % (predict1*10000))\n",
    "\n",
    "# predict2 = 7.0 * w + b\n",
    "# print('For population = 70,000, we predict a profit of $%.2f' % (predict2*10000))\n",
    "\n",
    "\n",
    "# import numpy as np\n",
    "\n",
    "w = np.array([159., 400.])\n",
    "b = 600.\n",
    "predict1 = np.dot(w, [0.3031, 1]) + b\n",
    "print('For population = 35,000, we predict a profit of $%.2f' % (predict1*10000))\n",
    "\n",
    "\n",
    "predict2 = np.dot(w, [7.0, 1]) + b\n",
    "print('For population = 70,000, we predict a profit of $%.2f' % (predict2*10000))\n"
   ]
  },
  {
   "cell_type": "markdown",
   "metadata": {},
   "source": [
    "**Expected Output**:\n",
    "<table>\n",
    "  <tr>\n",
    "    <td> <b> For population = 35,000, we predict a profit of<b></td>\n",
    "    <td> $4519.77 </td> \n",
    "  </tr>\n",
    "  \n",
    "  <tr>\n",
    "    <td> <b> For population = 70,000, we predict a profit of<b></td>\n",
    "    <td> $45342.45 </td> \n",
    "  </tr>\n",
    "</table>"
   ]
  },
  {
   "cell_type": "markdown",
   "metadata": {},
   "source": [
    "You are requierd to answer these questions on your own after completing this assignmnet \n",
    "\n",
    "**Q1 : What was learning rate of our gradient descent algo and what will happen if make it too small and too large?**\n",
    "<br>\n",
    "The learning rate of our gradirnt descent algo is alpha (equals to 0.01), which is actually a hyperparameter that is controlling the step size at each iteration while moving towards a minimum of a loss function. If we make it too large it must bring out bad results with loss funtcion leading to big strides and may be missing many points/extermas. While a small learning rate will bring out good results as it is slowily converging.It is always suggested to keep the value of learnig rate between 0 an 1.\n",
    "\n",
    "\n",
    "**Q2 : What you understand from the learning curve what will be the effect of Alpha on our curve?**\n",
    "<br>\n",
    "The learning curve in our algorithm is depicting that how much our algotihtm is working, is it improving with the more and more trainings like the cost from the learning curve must have to go down if we asssume it working good. It typically plots the training error and validation error as a function of the number of training examples. Alpha is playing a vital role in giving our perfect parameters thorugh iterations.\n",
    "\n",
    "\n",
    "**Q3 : Explain gradient descent acording to your understanding in your own words**\n",
    "<br>\n",
    "Gradient Descent is an optimization machine learning algorithm. It optimizes the model by minimizing the cost. The results of gradient sescrnt gives us those parametrs at the end that have mininmum cost and best fits with the model. The algo suggests that: \n",
    "<br><center>\n",
    "**𝑏:=𝑏−𝛼∂𝐽(𝑤,𝑏)∂𝑏** <center><br> \n",
    "Where the alpha is learning rate that specifically indicates that the length of each stride. Alpha is playing a vital role in giving our perfect parameters thorugh iterations. By iteratively adjusting the parameters towards the minimum of the cost function, gradient descent can be used to optimize a wide variety of models and functions, from simple linear regression to complex deep neural networks."
   ]
  },
  {
   "cell_type": "markdown",
   "metadata": {},
   "source": [
    "**Congratulations on completing this lab on linear regression!**"
   ]
  },
  {
   "cell_type": "markdown",
   "metadata": {},
   "source": [
    "\n",
    "#### ©️ Andrew ng\n"
   ]
  }
 ],
 "metadata": {
  "celltoolbar": "Edit Metadata",
  "kernelspec": {
   "display_name": "Python 3 (ipykernel)",
   "language": "python",
   "name": "python3"
  },
  "language_info": {
   "codemirror_mode": {
    "name": "ipython",
    "version": 3
   },
   "file_extension": ".py",
   "mimetype": "text/x-python",
   "name": "python",
   "nbconvert_exporter": "python",
   "pygments_lexer": "ipython3",
   "version": "3.9.7"
  }
 },
 "nbformat": 4,
 "nbformat_minor": 4
}
